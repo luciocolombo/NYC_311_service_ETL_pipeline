{
 "cells": [
  {
   "cell_type": "code",
   "execution_count": 4,
   "id": "637f4adf-7d8e-4ee1-a1bf-02ad24c27f2d",
   "metadata": {},
   "outputs": [],
   "source": [
    "import pandas as pd\n",
    "import time\n",
    "from prefect import flow, task"
   ]
  },
  {
   "cell_type": "code",
   "execution_count": 5,
   "id": "eada165c-7935-462e-ae63-01dadfa30da6",
   "metadata": {},
   "outputs": [],
   "source": [
    "#The dataset is very big and pandas has trouble assigning dtypes to the columns automatically because of bad data quality. We assign dtype=str and cast manually.\n",
    "@task(retries=2, log_prints=True)\n",
    "def load(rows):\n",
    "    print('Loaded sample of the total dataset, with some of the total columns only')\n",
    "    return pd.read_csv('./311_Service_Requests_from_2010_to_Present.csv', dtype=str, nrows=rows, \n",
    "        usecols = [\n",
    "            \"Unique Key\",\n",
    "            \"Created Date\",\n",
    "            \"Closed Date\",\n",
    "            \"Agency\",\n",
    "            \"Agency Name\",\n",
    "            \"Complaint Type\",\n",
    "            \"Descriptor\",\n",
    "            \"Location Type\",\n",
    "            \"Incident Zip\",\n",
    "            \"Incident Address\",\n",
    "            \"Borough\",\n",
    "            \"Status\",\n",
    "            \"Bridge Highway Direction\",\n",
    "            \"Taxi Company Borough\",\n",
    "            \"Vehicle Type\",\n",
    "            \"School or Citywide Complaint\",\n",
    "            \"Intersection Street 1\",\n",
    "            \"Ferry Direction\",\n",
    "            \"Ferry Terminal Name\",\n",
    "            \"Bridge Highway Segment\",\n",
    "            \"Taxi Pick Up Location\",\n",
    "            \"Bridge Highway Name\",\n",
    "            \"Garage Lot Name\",\n",
    "            \"Intersection Street 2\",\n",
    "            \"Road Ramp\",\n",
    "            \"Landmark\"\n",
    "        ]\n",
    "\n",
    "    )\n",
    "    \n"
   ]
  },
  {
   "cell_type": "code",
   "execution_count": 6,
   "id": "51f3a066-b907-4e6c-90b6-b38ad5cb5c0d",
   "metadata": {},
   "outputs": [],
   "source": [
    "#We remove columns that have too many nulls, like max_nulls = 0,5  so 50%\n",
    "@task(retries=2, log_prints=True)\n",
    "def remove_too_empty_cols(df, max_nulls):\n",
    "    ds = df.dropna(axis=1, thresh=max_nulls*len(df))\n",
    "    difference = set(df.columns)-set(ds.columns)\n",
    "    if len(difference) != 0:\n",
    "        print(f'==>Removing too empty columns: removed {difference}')\n",
    "    else:\n",
    "        print('==>No too empty columns to remove')\n",
    "    return ds\n",
    "    \n"
   ]
  },
  {
   "cell_type": "code",
   "execution_count": 7,
   "id": "84725741-9c52-42f9-a266-f38437702ba7",
   "metadata": {},
   "outputs": [],
   "source": [
    "#Check unique IDs. Remove duplicate entries if existing\n",
    "@task(retries=2, log_prints=True)\n",
    "def remove_duplicated_IDs(df):\n",
    "    ds = df.drop_duplicates(subset=['Unique Key'])\n",
    "    set_difference = set(ds['Unique Key']) - set(df['Unique Key'])\n",
    "    if len(set_difference)!= 0:\n",
    "        print(f'==>Removing duplicated keys IDs: {set_difference}')\n",
    "    else:\n",
    "        print('==>No duplicated IDs to remove')\n",
    "    return ds\n",
    "\n",
    "        "
   ]
  },
  {
   "cell_type": "code",
   "execution_count": 8,
   "id": "0061b87f-84e7-4349-8c94-37f22a12a94b",
   "metadata": {},
   "outputs": [],
   "source": [
    "@task(retries=2, log_prints=True)\n",
    "def dates_to_datetime(df):\n",
    "    df['Created Date'] = pd.to_datetime(df['Created Date'], errors='coerce', format=\"%m/%d/%Y %I:%M:%S %p\")\n",
    "    df['Closed Date'] = pd.to_datetime(df['Closed Date'], errors='coerce', format=\"%m/%d/%Y %I:%M:%S %p\")\n",
    "    print('==>Casting dates as datetime format')\n",
    "    return df\n",
    "    \n"
   ]
  },
  {
   "cell_type": "code",
   "execution_count": 9,
   "id": "7f1a2f62-a8b6-48b6-a9bd-51081cd5da80",
   "metadata": {},
   "outputs": [],
   "source": [
    "@task(retries=2, log_prints=True)\n",
    "def remove_invalid_zip_codes(df):\n",
    "    df['Incident Zip'] = df['Incident Zip'].str.strip()\n",
    "    isnum = df['Incident Zip'].str.isnumeric()\n",
    "    islength5 = df['Incident Zip'].str.len()==5\n",
    "    iscorrectrange = df['Incident Zip'].astype(float).between(501,99950)\n",
    "    condition = isnum & islength5 & iscorrectrange\n",
    "    if df[~condition]['Incident Zip'].shape[0] !=0:\n",
    "        print(f'==>Step check zip codes: removed incident zip codes {df[~condition]['Incident Zip'].unique()}')\n",
    "    else:\n",
    "        print('==>No removed Incident zip codes')\n",
    "    df = df[condition]\n",
    "    return df\n"
   ]
  },
  {
   "cell_type": "code",
   "execution_count": 10,
   "id": "e57d2e5b-f385-4225-aeb1-b4e8b20ac66a",
   "metadata": {},
   "outputs": [],
   "source": [
    "@task(retries=2, log_prints=True)\n",
    "def remove_invalid_status(df):\n",
    "    df.Status = df.Status.str.strip().str.lower()\n",
    "    mask = df.Status.isin(['closed', 'open', 'assigned'])\n",
    "    if df[~mask].shape[0] != 0:\n",
    "        print(f'==>Step Status check: Removed {df[~mask].shape[0]}')\n",
    "    else:\n",
    "        print('==>No invalid status to remove')\n",
    "    return df[mask]\n",
    "\n",
    "    \n",
    "    "
   ]
  },
  {
   "cell_type": "code",
   "execution_count": 11,
   "id": "f61cba4e-102f-4add-a8d3-1c50be7f714d",
   "metadata": {},
   "outputs": [],
   "source": [
    "@task(retries=2, log_prints=True)\n",
    "def polish_strings(df):\n",
    "    for col in ['Borough', 'Agency', 'Agency Name', 'Complaint Type', 'Descriptor', 'Location Type', 'Incident Address']:\n",
    "        df[col] = df[col].astype(str).str.strip().str.lower()\n",
    "    print('==>All string columns have been standarized')\n",
    "    return df\n",
    "        "
   ]
  },
  {
   "cell_type": "code",
   "execution_count": 12,
   "id": "fe94f78c-746e-43ba-bf07-477c9c2558d0",
   "metadata": {},
   "outputs": [],
   "source": [
    "@task(retries=2, log_prints=True)\n",
    "def final_validation(df):\n",
    "    assert df['Unique Key'].duplicated().sum() == 0, 'Duplicated ID'\n",
    "    assert df['Created Date'].dtype == 'datetime64[ns]', 'Created Date is not a date'\n",
    "    assert df['Closed Date'].dtype == 'datetime64[ns]', 'Closed Date is not a date'\n",
    "    assert df['Status'].isin(['closed','open','assigned']).all(), 'Unrecognized status'\n",
    "    print('==>All validations passed')\n",
    "    return df"
   ]
  },
  {
   "cell_type": "code",
   "execution_count": 13,
   "id": "ca4b555a-c09a-4e28-8bab-59af656dc70e",
   "metadata": {},
   "outputs": [
    {
     "data": {
      "text/html": [
       "<pre style=\"white-space:pre;overflow-x:auto;line-height:normal;font-family:Menlo,'DejaVu Sans Mono',consolas,'Courier New',monospace\">14:08:30.207 | <span style=\"color: #008080; text-decoration-color: #008080\">INFO</span>    | Flow run<span style=\"color: #800080; text-decoration-color: #800080\"> 'hilarious-badger'</span> - Beginning flow run<span style=\"color: #800080; text-decoration-color: #800080\"> 'hilarious-badger'</span> for flow<span style=\"color: #800080; text-decoration-color: #800080; font-weight: bold\"> 'main'</span>\n",
       "</pre>\n"
      ],
      "text/plain": [
       "14:08:30.207 | \u001b[36mINFO\u001b[0m    | Flow run\u001b[35m 'hilarious-badger'\u001b[0m - Beginning flow run\u001b[35m 'hilarious-badger'\u001b[0m for flow\u001b[1;35m 'main'\u001b[0m\n"
      ]
     },
     "metadata": {},
     "output_type": "display_data"
    },
    {
     "data": {
      "text/html": [
       "<pre style=\"white-space:pre;overflow-x:auto;line-height:normal;font-family:Menlo,'DejaVu Sans Mono',consolas,'Courier New',monospace\">14:08:30.483 | <span style=\"color: #008080; text-decoration-color: #008080\">INFO</span>    | Task run 'load-392' - Loaded sample of the total dataset, with some of the total columns only\n",
       "</pre>\n"
      ],
      "text/plain": [
       "14:08:30.483 | \u001b[36mINFO\u001b[0m    | Task run 'load-392' - Loaded sample of the total dataset, with some of the total columns only\n"
      ]
     },
     "metadata": {},
     "output_type": "display_data"
    },
    {
     "data": {
      "text/html": [
       "<pre style=\"white-space:pre;overflow-x:auto;line-height:normal;font-family:Menlo,'DejaVu Sans Mono',consolas,'Courier New',monospace\">14:08:30.667 | <span style=\"color: #008080; text-decoration-color: #008080\">INFO</span>    | Task run 'load-392' - Finished in state <span style=\"color: #008000; text-decoration-color: #008000\">Completed</span>()\n",
       "</pre>\n"
      ],
      "text/plain": [
       "14:08:30.667 | \u001b[36mINFO\u001b[0m    | Task run 'load-392' - Finished in state \u001b[32mCompleted\u001b[0m()\n"
      ]
     },
     "metadata": {},
     "output_type": "display_data"
    },
    {
     "data": {
      "text/html": [
       "<pre style=\"white-space:pre;overflow-x:auto;line-height:normal;font-family:Menlo,'DejaVu Sans Mono',consolas,'Courier New',monospace\">14:08:30.997 | <span style=\"color: #008080; text-decoration-color: #008080\">INFO</span>    | Task run 'remove_too_empty_cols-b5b' - ==&gt;Removing too empty columns: removed {'Intersection Street 2', 'Ferry Terminal Name', 'School or Citywide Complaint', 'Garage Lot Name', 'Landmark', 'Bridge Highway Segment', 'Taxi Company Borough', 'Bridge Highway Direction', 'Intersection Street 1', 'Vehicle Type', 'Taxi Pick Up Location', 'Ferry Direction', 'Bridge Highway Name', 'Road Ramp'}\n",
       "</pre>\n"
      ],
      "text/plain": [
       "14:08:30.997 | \u001b[36mINFO\u001b[0m    | Task run 'remove_too_empty_cols-b5b' - ==>Removing too empty columns: removed {'Intersection Street 2', 'Ferry Terminal Name', 'School or Citywide Complaint', 'Garage Lot Name', 'Landmark', 'Bridge Highway Segment', 'Taxi Company Borough', 'Bridge Highway Direction', 'Intersection Street 1', 'Vehicle Type', 'Taxi Pick Up Location', 'Ferry Direction', 'Bridge Highway Name', 'Road Ramp'}\n"
      ]
     },
     "metadata": {},
     "output_type": "display_data"
    },
    {
     "data": {
      "text/html": [
       "<pre style=\"white-space:pre;overflow-x:auto;line-height:normal;font-family:Menlo,'DejaVu Sans Mono',consolas,'Courier New',monospace\">14:08:31.002 | <span style=\"color: #008080; text-decoration-color: #008080\">INFO</span>    | Task run 'remove_too_empty_cols-b5b' - Finished in state <span style=\"color: #008000; text-decoration-color: #008000\">Completed</span>()\n",
       "</pre>\n"
      ],
      "text/plain": [
       "14:08:31.002 | \u001b[36mINFO\u001b[0m    | Task run 'remove_too_empty_cols-b5b' - Finished in state \u001b[32mCompleted\u001b[0m()\n"
      ]
     },
     "metadata": {},
     "output_type": "display_data"
    },
    {
     "data": {
      "text/html": [
       "<pre style=\"white-space:pre;overflow-x:auto;line-height:normal;font-family:Menlo,'DejaVu Sans Mono',consolas,'Courier New',monospace\">14:08:31.295 | <span style=\"color: #008080; text-decoration-color: #008080\">INFO</span>    | Task run 'remove_duplicated_IDs-a2b' - ==&gt;No duplicated IDs to remove\n",
       "</pre>\n"
      ],
      "text/plain": [
       "14:08:31.295 | \u001b[36mINFO\u001b[0m    | Task run 'remove_duplicated_IDs-a2b' - ==>No duplicated IDs to remove\n"
      ]
     },
     "metadata": {},
     "output_type": "display_data"
    },
    {
     "data": {
      "text/html": [
       "<pre style=\"white-space:pre;overflow-x:auto;line-height:normal;font-family:Menlo,'DejaVu Sans Mono',consolas,'Courier New',monospace\">14:08:31.299 | <span style=\"color: #008080; text-decoration-color: #008080\">INFO</span>    | Task run 'remove_duplicated_IDs-a2b' - Finished in state <span style=\"color: #008000; text-decoration-color: #008000\">Completed</span>()\n",
       "</pre>\n"
      ],
      "text/plain": [
       "14:08:31.299 | \u001b[36mINFO\u001b[0m    | Task run 'remove_duplicated_IDs-a2b' - Finished in state \u001b[32mCompleted\u001b[0m()\n"
      ]
     },
     "metadata": {},
     "output_type": "display_data"
    },
    {
     "data": {
      "text/html": [
       "<pre style=\"white-space:pre;overflow-x:auto;line-height:normal;font-family:Menlo,'DejaVu Sans Mono',consolas,'Courier New',monospace\">14:08:31.690 | <span style=\"color: #008080; text-decoration-color: #008080\">INFO</span>    | Task run 'dates_to_datetime-0bb' - ==&gt;Casting dates as datetime format\n",
       "</pre>\n"
      ],
      "text/plain": [
       "14:08:31.690 | \u001b[36mINFO\u001b[0m    | Task run 'dates_to_datetime-0bb' - ==>Casting dates as datetime format\n"
      ]
     },
     "metadata": {},
     "output_type": "display_data"
    },
    {
     "data": {
      "text/html": [
       "<pre style=\"white-space:pre;overflow-x:auto;line-height:normal;font-family:Menlo,'DejaVu Sans Mono',consolas,'Courier New',monospace\">14:08:31.694 | <span style=\"color: #008080; text-decoration-color: #008080\">INFO</span>    | Task run 'dates_to_datetime-0bb' - Finished in state <span style=\"color: #008000; text-decoration-color: #008000\">Completed</span>()\n",
       "</pre>\n"
      ],
      "text/plain": [
       "14:08:31.694 | \u001b[36mINFO\u001b[0m    | Task run 'dates_to_datetime-0bb' - Finished in state \u001b[32mCompleted\u001b[0m()\n"
      ]
     },
     "metadata": {},
     "output_type": "display_data"
    },
    {
     "data": {
      "text/html": [
       "<pre style=\"white-space:pre;overflow-x:auto;line-height:normal;font-family:Menlo,'DejaVu Sans Mono',consolas,'Courier New',monospace\">14:08:31.981 | <span style=\"color: #008080; text-decoration-color: #008080\">INFO</span>    | Task run 'remove_invalid_zip_codes-28a' - ==&gt;Step check zip codes: removed incident zip codes [nan '00083']\n",
       "</pre>\n"
      ],
      "text/plain": [
       "14:08:31.981 | \u001b[36mINFO\u001b[0m    | Task run 'remove_invalid_zip_codes-28a' - ==>Step check zip codes: removed incident zip codes [nan '00083']\n"
      ]
     },
     "metadata": {},
     "output_type": "display_data"
    },
    {
     "data": {
      "text/html": [
       "<pre style=\"white-space:pre;overflow-x:auto;line-height:normal;font-family:Menlo,'DejaVu Sans Mono',consolas,'Courier New',monospace\">14:08:31.988 | <span style=\"color: #008080; text-decoration-color: #008080\">INFO</span>    | Task run 'remove_invalid_zip_codes-28a' - Finished in state <span style=\"color: #008000; text-decoration-color: #008000\">Completed</span>()\n",
       "</pre>\n"
      ],
      "text/plain": [
       "14:08:31.988 | \u001b[36mINFO\u001b[0m    | Task run 'remove_invalid_zip_codes-28a' - Finished in state \u001b[32mCompleted\u001b[0m()\n"
      ]
     },
     "metadata": {},
     "output_type": "display_data"
    },
    {
     "data": {
      "text/html": [
       "<pre style=\"white-space:pre;overflow-x:auto;line-height:normal;font-family:Menlo,'DejaVu Sans Mono',consolas,'Courier New',monospace\">14:08:32.270 | <span style=\"color: #008080; text-decoration-color: #008080\">INFO</span>    | Task run 'remove_invalid_status-f9f' - ==&gt;No invalid status to remove\n",
       "</pre>\n"
      ],
      "text/plain": [
       "14:08:32.270 | \u001b[36mINFO\u001b[0m    | Task run 'remove_invalid_status-f9f' - ==>No invalid status to remove\n"
      ]
     },
     "metadata": {},
     "output_type": "display_data"
    },
    {
     "data": {
      "text/html": [
       "<pre style=\"white-space:pre;overflow-x:auto;line-height:normal;font-family:Menlo,'DejaVu Sans Mono',consolas,'Courier New',monospace\">14:08:32.281 | <span style=\"color: #008080; text-decoration-color: #008080\">INFO</span>    | Task run 'remove_invalid_status-f9f' - Finished in state <span style=\"color: #008000; text-decoration-color: #008000\">Completed</span>()\n",
       "</pre>\n"
      ],
      "text/plain": [
       "14:08:32.281 | \u001b[36mINFO\u001b[0m    | Task run 'remove_invalid_status-f9f' - Finished in state \u001b[32mCompleted\u001b[0m()\n"
      ]
     },
     "metadata": {},
     "output_type": "display_data"
    },
    {
     "data": {
      "text/html": [
       "<pre style=\"white-space:pre;overflow-x:auto;line-height:normal;font-family:Menlo,'DejaVu Sans Mono',consolas,'Courier New',monospace\">14:08:32.592 | <span style=\"color: #008080; text-decoration-color: #008080\">INFO</span>    | Task run 'polish_strings-6bd' - ==&gt;All string columns have been standarized\n",
       "</pre>\n"
      ],
      "text/plain": [
       "14:08:32.592 | \u001b[36mINFO\u001b[0m    | Task run 'polish_strings-6bd' - ==>All string columns have been standarized\n"
      ]
     },
     "metadata": {},
     "output_type": "display_data"
    },
    {
     "data": {
      "text/html": [
       "<pre style=\"white-space:pre;overflow-x:auto;line-height:normal;font-family:Menlo,'DejaVu Sans Mono',consolas,'Courier New',monospace\">14:08:32.596 | <span style=\"color: #008080; text-decoration-color: #008080\">INFO</span>    | Task run 'polish_strings-6bd' - Finished in state <span style=\"color: #008000; text-decoration-color: #008000\">Completed</span>()\n",
       "</pre>\n"
      ],
      "text/plain": [
       "14:08:32.596 | \u001b[36mINFO\u001b[0m    | Task run 'polish_strings-6bd' - Finished in state \u001b[32mCompleted\u001b[0m()\n"
      ]
     },
     "metadata": {},
     "output_type": "display_data"
    },
    {
     "data": {
      "text/html": [
       "<pre style=\"white-space:pre;overflow-x:auto;line-height:normal;font-family:Menlo,'DejaVu Sans Mono',consolas,'Courier New',monospace\">14:08:32.915 | <span style=\"color: #008080; text-decoration-color: #008080\">INFO</span>    | Task run 'final_validation-864' - ==&gt;All validations passed\n",
       "</pre>\n"
      ],
      "text/plain": [
       "14:08:32.915 | \u001b[36mINFO\u001b[0m    | Task run 'final_validation-864' - ==>All validations passed\n"
      ]
     },
     "metadata": {},
     "output_type": "display_data"
    },
    {
     "data": {
      "text/html": [
       "<pre style=\"white-space:pre;overflow-x:auto;line-height:normal;font-family:Menlo,'DejaVu Sans Mono',consolas,'Courier New',monospace\">14:08:32.919 | <span style=\"color: #008080; text-decoration-color: #008080\">INFO</span>    | Task run 'final_validation-864' - Finished in state <span style=\"color: #008000; text-decoration-color: #008000\">Completed</span>()\n",
       "</pre>\n"
      ],
      "text/plain": [
       "14:08:32.919 | \u001b[36mINFO\u001b[0m    | Task run 'final_validation-864' - Finished in state \u001b[32mCompleted\u001b[0m()\n"
      ]
     },
     "metadata": {},
     "output_type": "display_data"
    },
    {
     "name": "stdout",
     "output_type": "stream",
     "text": [
      "Your data is ready, processed in 2.71 seconds, resulting in 19859 rows and 12 columns\n"
     ]
    },
    {
     "data": {
      "text/html": [
       "<pre style=\"white-space:pre;overflow-x:auto;line-height:normal;font-family:Menlo,'DejaVu Sans Mono',consolas,'Courier New',monospace\">14:08:33.083 | <span style=\"color: #008080; text-decoration-color: #008080\">INFO</span>    | Flow run<span style=\"color: #800080; text-decoration-color: #800080\"> 'hilarious-badger'</span> - Finished in state <span style=\"color: #008000; text-decoration-color: #008000\">Completed</span>()\n",
       "</pre>\n"
      ],
      "text/plain": [
       "14:08:33.083 | \u001b[36mINFO\u001b[0m    | Flow run\u001b[35m 'hilarious-badger'\u001b[0m - Finished in state \u001b[32mCompleted\u001b[0m()\n"
      ]
     },
     "metadata": {},
     "output_type": "display_data"
    }
   ],
   "source": [
    "@flow()\n",
    "def main():\n",
    "    t0 = time.time()\n",
    "    df = (load(20000)\n",
    "    .pipe(remove_too_empty_cols,0.5)\n",
    "    .pipe(remove_duplicated_IDs)\n",
    "    .pipe(dates_to_datetime)\n",
    "    .pipe(remove_invalid_zip_codes)\n",
    "    .pipe(remove_invalid_status)\n",
    "    .pipe(polish_strings)\n",
    "    .pipe(final_validation)\n",
    "    )\n",
    "    dt = round(time.time() - t0,2)\n",
    "    print(f'Your data is ready, processed in {dt} seconds, resulting in {df.shape[0]} rows and {df.shape[1]} columns')\n",
    "    df.to_csv('311_NYC_requests_clean.csv')\n",
    "    \n",
    "main()"
   ]
  },
  {
   "cell_type": "code",
   "execution_count": null,
   "id": "e338827d-912c-4355-85c7-99f4162d59ca",
   "metadata": {},
   "outputs": [],
   "source": []
  }
 ],
 "metadata": {
  "kernelspec": {
   "display_name": "Python 3 (ipykernel)",
   "language": "python",
   "name": "python3"
  },
  "language_info": {
   "codemirror_mode": {
    "name": "ipython",
    "version": 3
   },
   "file_extension": ".py",
   "mimetype": "text/x-python",
   "name": "python",
   "nbconvert_exporter": "python",
   "pygments_lexer": "ipython3",
   "version": "3.13.7"
  }
 },
 "nbformat": 4,
 "nbformat_minor": 5
}
