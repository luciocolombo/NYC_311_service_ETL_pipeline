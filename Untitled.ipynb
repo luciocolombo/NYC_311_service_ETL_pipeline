{
 "cells": [
  {
   "cell_type": "markdown",
   "id": "cdf99e50-827d-4d8f-8d24-b54aeb56b2e9",
   "metadata": {},
   "source": [
    "Crear una clase BankAccount.\n",
    "\n",
    "Debe tener un atributo de clase accounts_created que cuente cuántas cuentas existen.\n",
    "\n",
    "Incluir un @classmethod get_total_accounts() que devuelva ese contador.\n",
    "\n",
    "Incluir un @property balance con un setter que impida asignar valores negativos.\n",
    "\n",
    "Incluir un @staticmethod is_valid_amount(amount) que devuelva True si el monto es positivo y False si no lo es.\n",
    "\n",
    "Los métodos deposit y withdraw deben usar is_valid_amount para validar el monto.\n",
    "\n",
    "No es necesario validar fondos insuficientes."
   ]
  },
  {
   "cell_type": "code",
   "execution_count": null,
   "id": "c5ab4de4-b098-4ea0-87c9-0e223bbb1e8b",
   "metadata": {},
   "outputs": [],
   "source": [
    "class BankAccount:\n",
    "    accounts_created = 0\n",
    "\n",
    "    def __init__(self):\n",
    "        BankAccount.accounts_created+=1\n",
    "        self._balance = 0\n",
    "\n",
    "    def deposit(self, amount):\n",
    "        self.is_valid_amount(amount)\n",
    "        self.balance+=amount\n",
    "        \n",
    "    def withdraw(self,amount):\n",
    "        self.is_valid_amount(amount)\n",
    "        self.balance-=amount\n",
    "        \n",
    "    @classmethod\n",
    "    def get_total_accounts(cls):\n",
    "        return cls.accounts_created\n",
    "\n",
    "    @property\n",
    "    def balance(self):\n",
    "        return self._balance\n",
    "    @balance.setter\n",
    "    def balance(self,amount):\n",
    "        if amount<0:\n",
    "            raise ValueError('Negative value not allowed')\n",
    "        self._balance = amount\n",
    "\n",
    "    @staticmethod\n",
    "    def is_valid_amount(amount):\n",
    "        if amount<0:\n",
    "            raise ValueError('Negative value not allowed')\n",
    "        return True"
   ]
  },
  {
   "cell_type": "raw",
   "id": "420ac12b-b1ae-4364-812d-93af7223aeab",
   "metadata": {},
   "source": [
    "#Escribí una list comprehension que tome una lista de números y devuelva solo los cuadrados de los pares."
   ]
  },
  {
   "cell_type": "code",
   "execution_count": null,
   "id": "0383d776-15ac-4d3b-b82d-d86bd25dae08",
   "metadata": {},
   "outputs": [],
   "source": [
    "def function(lista):\n",
    "    return [num*num for num in lista if num%2 == 0]"
   ]
  },
  {
   "cell_type": "markdown",
   "id": "898b02b0-0253-4ef0-8eb6-f86ed34fe698",
   "metadata": {},
   "source": [
    "Dado un diccionario {\"a\": 3, \"b\": 7, \"c\": 1}, escribí una línea que devuelva la clave con el valor más alto."
   ]
  },
  {
   "cell_type": "code",
   "execution_count": 9,
   "id": "26227cf3-ad0a-47d8-b782-cb822e847160",
   "metadata": {},
   "outputs": [
    {
     "ename": "TypeError",
     "evalue": "'dict_keys' object is not subscriptable",
     "output_type": "error",
     "traceback": [
      "\u001b[31m---------------------------------------------------------------------------\u001b[39m",
      "\u001b[31mTypeError\u001b[39m                                 Traceback (most recent call last)",
      "\u001b[36mCell\u001b[39m\u001b[36m \u001b[39m\u001b[32mIn[9]\u001b[39m\u001b[32m, line 2\u001b[39m\n\u001b[32m      1\u001b[39m \u001b[38;5;28mdict\u001b[39m = {\u001b[33m\"\u001b[39m\u001b[33ma\u001b[39m\u001b[33m\"\u001b[39m: \u001b[32m3\u001b[39m, \u001b[33m\"\u001b[39m\u001b[33mb\u001b[39m\u001b[33m\"\u001b[39m: \u001b[32m7\u001b[39m, \u001b[33m\"\u001b[39m\u001b[33mc\u001b[39m\u001b[33m\"\u001b[39m: \u001b[32m1\u001b[39m}\n\u001b[32m----> \u001b[39m\u001b[32m2\u001b[39m maxval = \u001b[38;5;28mdict\u001b[39m[\u001b[38;5;28;43mdict\u001b[39;49m\u001b[43m.\u001b[49m\u001b[43mkeys\u001b[49m\u001b[43m(\u001b[49m\u001b[43m)\u001b[49m\u001b[43m[\u001b[49m\u001b[32;43m0\u001b[39;49m\u001b[43m]\u001b[49m]\n\u001b[32m      3\u001b[39m \u001b[38;5;28;01mfor\u001b[39;00m index \u001b[38;5;129;01min\u001b[39;00m \u001b[38;5;28mdict\u001b[39m.keys():\n\u001b[32m      4\u001b[39m     \u001b[38;5;28;01mif\u001b[39;00m \u001b[38;5;28mdict\u001b[39m[\u001b[38;5;28mdict\u001b[39m.keys()[index]] > maxval:\n",
      "\u001b[31mTypeError\u001b[39m: 'dict_keys' object is not subscriptable"
     ]
    }
   ],
   "source": [
    "dict = {\"a\": 3, \"b\": 7, \"c\": 1}\n",
    "maxval = dict[dict.keys()[0]]\n",
    "for index in dict.keys():\n",
    "    if dict[dict.keys()[index]] > maxval:\n",
    "        maxval = dict[dict.keys()[index]]\n",
    "\n",
    "    "
   ]
  },
  {
   "cell_type": "markdown",
   "id": "40bfe42d-aa01-42e7-9315-a06ac85bc5db",
   "metadata": {},
   "source": [
    "Escribí una función apply_if(func, cond, iterable) que aplique func solo a los elementos de iterable donde cond(elem) sea verdadero."
   ]
  },
  {
   "cell_type": "code",
   "execution_count": null,
   "id": "188357e8-31d0-4b50-be38-9f9a3fa2a1f7",
   "metadata": {},
   "outputs": [],
   "source": [
    "def apply_if(func, cond, iterable):\n",
    "    return [func(x) for x in iterable if cond(x)]"
   ]
  },
  {
   "cell_type": "markdown",
   "id": "fcecfb6c-d1a5-4c13-b588-97306baff419",
   "metadata": {},
   "source": [
    "4. Pandas\n",
    "\n",
    "Dado un DataFrame df con columnas ['country','sales'], escribí una línea que reemplace los valores nulos de sales por la media global de esa columna.\n",
    "\n",
    "5. Clases\n",
    "\n",
    "Crea una clase Rectangle con atributos width y height.\n",
    "Agregá:\n",
    "\n",
    "método area()\n",
    "\n",
    "método is_square() que devuelva True si es cuadrado"
   ]
  },
  {
   "cell_type": "code",
   "execution_count": null,
   "id": "5bf23f69-38df-415d-8d66-e63ae4a3a3de",
   "metadata": {},
   "outputs": [],
   "source": [
    "df.sales = df.sales.fillna(df.sales.mean())"
   ]
  },
  {
   "cell_type": "code",
   "execution_count": 26,
   "id": "96c42c89-989c-49b8-894a-c849fdf8622a",
   "metadata": {},
   "outputs": [],
   "source": [
    "class Rectangle:\n",
    "    def __init__(self, width, height):\n",
    "        self.width = width\n",
    "        self.height = height\n",
    "\n",
    "    def area(self):\n",
    "        return self.width*self.height\n",
    "\n",
    "    def is_square(self):\n",
    "        return self.width==self.height"
   ]
  },
  {
   "cell_type": "code",
   "execution_count": 27,
   "id": "ba622bf6-ab49-4d3f-b360-3e6adf384929",
   "metadata": {},
   "outputs": [],
   "source": [
    "rect = Rectangle(4,4)\n"
   ]
  },
  {
   "cell_type": "code",
   "execution_count": 28,
   "id": "2130a9d4-f267-472a-930a-b2877f4ca841",
   "metadata": {},
   "outputs": [
    {
     "data": {
      "text/plain": [
       "True"
      ]
     },
     "execution_count": 28,
     "metadata": {},
     "output_type": "execute_result"
    }
   ],
   "source": [
    "rect.is_square()"
   ]
  },
  {
   "cell_type": "markdown",
   "id": "741231c0-7edd-415f-b1a1-b5da369a1fca",
   "metadata": {},
   "source": [
    "1. Tuplas y desempaquetado\n",
    "\n",
    "Dado pairs = [(1,2), (3,4), (5,6)], escribí una list comprehension que devuelva la suma de cada par.\n",
    "\n",
    "2. Funciones con argumentos variables\n",
    "\n",
    "Escribí una función multiply_all(*args) que devuelva el producto de todos los argumentos numéricos que reciba.\n",
    "\n",
    "3. Manejo de errores\n",
    "\n",
    "Escribí una función safe_divide(a,b) que devuelva a/b, pero capture divisiones por cero y retorne None en ese caso.\n",
    "\n",
    "4. Diccionarios\n",
    "\n",
    "Escribí una línea que invierta claves y valores de un diccionario d (suponé que los valores son únicos).\n",
    "\n",
    "5. Pandas\n",
    "\n",
    "Dado df con columnas ['city','population'], escribí una línea que obtenga la ciudad con mayor población."
   ]
  },
  {
   "cell_type": "code",
   "execution_count": null,
   "id": "3759b26f-0f79-41e8-972e-f2a0607eef50",
   "metadata": {},
   "outputs": [],
   "source": [
    "def function(lista_tuplas):\n",
    "    return [sum(tupla) for tupla in lista_tuplas]"
   ]
  },
  {
   "cell_type": "code",
   "execution_count": 37,
   "id": "778909a3-1d24-49aa-ae97-fa4cbfd0e5ab",
   "metadata": {},
   "outputs": [],
   "source": [
    "import math\n",
    "def multiply_all(*args):\n",
    "    return math.prod([arg for arg in args if (type(arg) == float) or (type(arg) == int)])"
   ]
  },
  {
   "cell_type": "code",
   "execution_count": 39,
   "id": "9cf9a764-fa82-41d4-b64a-a3afb25bfa55",
   "metadata": {},
   "outputs": [
    {
     "data": {
      "text/plain": [
       "1520"
      ]
     },
     "execution_count": 39,
     "metadata": {},
     "output_type": "execute_result"
    }
   ],
   "source": [
    "multiply_all(5,2,76,1,2, 'torta')"
   ]
  },
  {
   "cell_type": "code",
   "execution_count": 43,
   "id": "6f06f29a-2c2b-4d87-93f3-9c84ecafec59",
   "metadata": {},
   "outputs": [],
   "source": [
    "def safe_divide(a,b):\n",
    "    if b==0:\n",
    "        raise ValueError('cannot divide 0')\n",
    "    return a/b"
   ]
  },
  {
   "cell_type": "code",
   "execution_count": 45,
   "id": "96428776-81d4-4da4-a5ab-1fb2f69648a7",
   "metadata": {},
   "outputs": [
    {
     "data": {
      "text/plain": [
       "5.0"
      ]
     },
     "execution_count": 45,
     "metadata": {},
     "output_type": "execute_result"
    }
   ],
   "source": [
    "safe_divide(5,1)"
   ]
  },
  {
   "cell_type": "code",
   "execution_count": 46,
   "id": "290d222c-006f-4ddd-a091-2dd6e44ad4d5",
   "metadata": {},
   "outputs": [],
   "source": [
    "def invierte(d):\n",
    "    new_dict = {}\n",
    "    for x,y in d.items():\n",
    "        new_dict[y] = x\n",
    "    return new_dict"
   ]
  },
  {
   "cell_type": "code",
   "execution_count": 53,
   "id": "841c7de3-85f5-4dfb-9c02-89df615403c5",
   "metadata": {},
   "outputs": [
    {
     "data": {
      "text/plain": [
       "{3: 'a', 7: 'c'}"
      ]
     },
     "execution_count": 53,
     "metadata": {},
     "output_type": "execute_result"
    }
   ],
   "source": [
    "invierte({'a':3, 'c':7})"
   ]
  },
  {
   "cell_type": "code",
   "execution_count": 73,
   "id": "daee886a-aba3-4579-bca7-9a7f8f347dd8",
   "metadata": {},
   "outputs": [],
   "source": [
    "def filtro(dic):\n",
    "    return {k: v for k,v in dic.items() if v>6}"
   ]
  },
  {
   "cell_type": "code",
   "execution_count": 74,
   "id": "b64c29b9-c574-4ad4-ae9c-0180d71fadd0",
   "metadata": {},
   "outputs": [
    {
     "data": {
      "text/plain": [
       "{'b': 7}"
      ]
     },
     "execution_count": 74,
     "metadata": {},
     "output_type": "execute_result"
    }
   ],
   "source": [
    "filtro({'a':3,'b':7})"
   ]
  },
  {
   "cell_type": "code",
   "execution_count": 81,
   "id": "d3b829db-20b8-4fc7-95eb-a2a8f9bd9f29",
   "metadata": {},
   "outputs": [],
   "source": [
    "def to_fahr(dic):\n",
    "    return {k:v*9/5 + 32 for k,v in dic.items() }"
   ]
  },
  {
   "cell_type": "code",
   "execution_count": 82,
   "id": "332681e1-663c-4329-ba54-853fb35889ed",
   "metadata": {},
   "outputs": [
    {
     "data": {
      "text/plain": [
       "{'a': 41.0, 'b': 127.4}"
      ]
     },
     "execution_count": 82,
     "metadata": {},
     "output_type": "execute_result"
    }
   ],
   "source": [
    "to_fahr({'a':5,'b':53})"
   ]
  },
  {
   "cell_type": "code",
   "execution_count": 83,
   "id": "3ace2bac-955b-4e4a-8392-6ac4c7b087d7",
   "metadata": {},
   "outputs": [],
   "source": [
    "def coso(dic):\n",
    "    return {k.upper():v*2 for k,v in dic.items()}"
   ]
  },
  {
   "cell_type": "code",
   "execution_count": 84,
   "id": "181cc2fd-17e5-41dd-b87d-727e9d0ffaf9",
   "metadata": {},
   "outputs": [
    {
     "data": {
      "text/plain": [
       "{'A': 10, 'B': 106}"
      ]
     },
     "execution_count": 84,
     "metadata": {},
     "output_type": "execute_result"
    }
   ],
   "source": [
    "coso({'a':5,'b':53})"
   ]
  }
 ],
 "metadata": {
  "kernelspec": {
   "display_name": "Python 3 (ipykernel)",
   "language": "python",
   "name": "python3"
  },
  "language_info": {
   "codemirror_mode": {
    "name": "ipython",
    "version": 3
   },
   "file_extension": ".py",
   "mimetype": "text/x-python",
   "name": "python",
   "nbconvert_exporter": "python",
   "pygments_lexer": "ipython3",
   "version": "3.13.7"
  }
 },
 "nbformat": 4,
 "nbformat_minor": 5
}
